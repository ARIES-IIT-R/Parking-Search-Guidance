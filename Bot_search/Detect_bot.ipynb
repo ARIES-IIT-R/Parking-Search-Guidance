{
 "cells": [
  {
   "cell_type": "markdown",
   "metadata": {
    "collapsed": false
   },
   "source": [
    "#                                 Bot postion and Angle Detection\n",
    "\n",
    "Using both arcsin and arccos to find angle of rotation."
   ]
  },
  {
   "cell_type": "code",
   "execution_count": null,
   "metadata": {
    "collapsed": false
   },
   "outputs": [
    {
     "name": "stdout",
     "output_type": "stream",
     "text": [
      "[ -89.96294649  179.92673612]\n"
     ]
    }
   ],
   "source": [
    "#Installing dependencies\n",
    "import cv2 as cv\n",
    "import numpy as np\n",
    "import math\n",
    "import matplotlib.pyplot as plt\n",
    "%matplotlib inline\n",
    "\n",
    "#reading images and convertion them to grayscale\n",
    "img1 = cv.imread('bot.jpg')\n",
    "img3 = cv.cvtColor(img1, cv.COLOR_BGR2GRAY)\n",
    "img2 = cv.imread('p_area.jpg')\n",
    "img4 = cv.cvtColor(img2, cv.COLOR_BGR2GRAY)\n",
    "\n",
    "#instance of ORB\n",
    "orb = cv.ORB()\n",
    "\n",
    "#keypoints and descriptors\n",
    "kp1, des1 = orb.detectAndCompute(img1, None)\n",
    "kp2, des2 = orb.detectAndCompute(img2, None)\n",
    "\n",
    "#finding matches\n",
    "bf = cv.BFMatcher(cv.NORM_HAMMING, crossCheck=True)\n",
    "\n",
    "matches = bf.match(des1,des2)\n",
    "\n",
    "matches = sorted(matches, key = lambda x:x.distance)\n",
    "\n",
    "#top 40 matches\n",
    "matches = matches[:40]\n",
    "\n",
    "# finding angle\n",
    "if matches[0]!=None:\n",
    "    src_points = np.float32(map(lambda x: kp1[x.queryIdx].pt, matches[:40])).reshape(-1,1,2)\n",
    "    dst_points = np.float32(map(lambda x: kp2[x.trainIdx].pt, matches[:40])).reshape(-1,1,2)\n",
    "    \n",
    "    H, _ = cv.findHomography(src_points, dst_points)\n",
    "    \n",
    "    p1 = H.dot([1,1,1])\n",
    "    p2 = H.dot([2,2,1])\n",
    "    \n",
    "    p1 = p1 / p1[-1]\n",
    "    p2 = p2 / p2[-1]\n",
    "    \n",
    "    org_line_seg = np.array([2,2]) - np.array([1,1])\n",
    "    new_line_seg = p2[:2] - p1[:2]\n",
    "    \n",
    "    angle = np.dot(org_line_seg, new_line_seg) / np.sqrt(np.sum((org_line_seg ** 2)) * np.sum(new_line_seg ** 2))\n",
    "    \n",
    "    theta = np.array([math.asin(angle), math.acos(angle)])\n",
    "    degree = theta*180*7/22\n",
    "    print degree\n",
    "\t\n",
    "#drawing matches\n",
    "def drawMatches(img1, kp1, img2, kp2, matches):\n",
    "    rows1 = img1.shape[0]\n",
    "    cols1 = img1.shape[1]\n",
    "    rows2 = img2.shape[0]\n",
    "    cols2 = img2.shape[1]\n",
    "    \n",
    "    out = np.zeros((max([rows1,rows2]),cols1+cols2,3), dtype='uint8')\n",
    "    out[:rows1,:cols1] = np.dstack([img1, img1, img1])\n",
    "    out[:rows2,cols1:] = np.dstack([img2, img2, img2])\n",
    "    \n",
    "    for mat in matches:\n",
    "        img1_idx = mat.queryIdx\n",
    "        img2_idx = mat.trainIdx\n",
    "        \n",
    "        (x1,y1) = kp1[img1_idx].pt\n",
    "        (x2,y2) = kp2[img2_idx].pt\n",
    "\n",
    "        cv.circle(out, (int(x1),int(y1)), 4, (255, 0, 0), 1)   \n",
    "        cv.circle(out, (int(x2)+cols1,int(y2)), 4, (255, 0, 0), 1)\n",
    "\n",
    "        cv.line(out, (int(x1),int(y1)), (int(x2)+cols1,int(y2)), (255, 0, 0), 1)\n",
    "\n",
    "        \n",
    "    cv.imshow('Matched Features', out)\n",
    "    cv.waitKey(0)\n",
    "    cv.destroyWindow('Matched Features')\n",
    "    \n",
    "    return out\n",
    "\n",
    "\t\n",
    "out = drawMatches(img3, kp1, img4, kp2, matches[:40])\n"
   ]
  },
  {
   "cell_type": "code",
   "execution_count": null,
   "metadata": {
    "collapsed": true
   },
   "outputs": [],
   "source": []
  }
 ],
 "metadata": {
  "kernelspec": {
   "display_name": "Python 2",
   "language": "python",
   "name": "python2"
  },
  "language_info": {
   "codemirror_mode": {
    "name": "ipython",
    "version": 2
   },
   "file_extension": ".py",
   "mimetype": "text/x-python",
   "name": "python",
   "nbconvert_exporter": "python",
   "pygments_lexer": "ipython2",
   "version": "2.7.6"
  }
 },
 "nbformat": 4,
 "nbformat_minor": 2
}
