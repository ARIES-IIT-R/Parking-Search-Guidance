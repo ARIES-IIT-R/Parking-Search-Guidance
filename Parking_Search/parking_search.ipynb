{
 "cells": [
  {
   "cell_type": "code",
   "execution_count": 1,
   "metadata": {
    "collapsed": true
   },
   "outputs": [],
   "source": [
    "import cv2 as cv\n",
    "import math\n",
    "import numpy as np\n",
    "from matplotlib import pyplot as plt"
   ]
  },
  {
   "cell_type": "code",
   "execution_count": 2,
   "metadata": {
    "collapsed": false
   },
   "outputs": [],
   "source": [
    "img1 = cv.imread('new_fill.jpg')\n",
    "img3 = cv.cvtColor(img1, cv.COLOR_BGR2GRAY)\n",
    "img2 = cv.imread('new_parking.jpg')\n",
    "img4 = cv.cvtColor(img2, cv.COLOR_BGR2GRAY)"
   ]
  },
  {
   "cell_type": "code",
   "execution_count": 3,
   "metadata": {
    "collapsed": true
   },
   "outputs": [],
   "source": [
    "img_subtract = img3 - img4\n",
    "img5 = cv.cvtColor(img_subtract, cv.COLOR_GRAY2RGB)"
   ]
  },
  {
   "cell_type": "code",
   "execution_count": 4,
   "metadata": {
    "collapsed": false
   },
   "outputs": [],
   "source": [
    "kernel = np.ones((5,5),np.uint8)\n",
    "img8 = cv.erode(img5, kernel, iterations =5)"
   ]
  },
  {
   "cell_type": "code",
   "execution_count": 5,
   "metadata": {
    "collapsed": false
   },
   "outputs": [
    {
     "data": {
      "image/png": "[encoded data removed]",
      "text/plain": [
       "<matplotlib.figure.Figure at 0x7f33644022d0>"
      ]
     },
     "metadata": {},
     "output_type": "display_data"
    }
   ],
   "source": [
    "%matplotlib inline\n",
    "plt.imshow(img8)\n",
    "ret, thresh1 = cv.threshold(img8, 127, 255, 0)\n",
    "titles = ['Original Image', 'BINARY']\n",
    "images = [img8, thresh1]\n",
    "img6 = cv.cvtColor(thresh1, cv.COLOR_BGR2GRAY)"
   ]
  },
  {
   "cell_type": "code",
   "execution_count": 6,
   "metadata": {
    "collapsed": false
   },
   "outputs": [],
   "source": [
    "_, contours, hierarchy = cv.findContours(img6,cv.RETR_TREE, cv.CHAIN_APPROX_SIMPLE)"
   ]
  },
  {
   "cell_type": "code",
   "execution_count": 7,
   "metadata": {
    "collapsed": false
   },
   "outputs": [
    {
     "name": "stdout",
     "output_type": "stream",
     "text": [
      "539\n",
      "113\n",
      "394.254993627\n",
      "  \n",
      "386\n",
      "113\n",
      "347.867790978\n",
      "  \n"
     ]
    }
   ],
   "source": [
    "if len(contours)>0:\n",
    "    for i in range(0,len(contours),1):\n",
    "        cnt= contours[i]\n",
    "        M = cv.moments(cnt)\n",
    "        cx = int(M['m10']/M['m00'])\n",
    "        print cx\n",
    "        cy = int(M['m01']/M['m00'])\n",
    "        print cy\n",
    "        dis = math.sqrt((cx - 350)**2 + (cy - 459)**2)\n",
    "        print dis\n",
    "        print('  ')\n",
    "else:\n",
    "    print \"sorry no lot is empty\""
   ]
  },
  {
   "cell_type": "code",
   "execution_count": null,
   "metadata": {
    "collapsed": true
   },
   "outputs": [],
   "source": []
  }
 ],
 "metadata": {
  "kernelspec": {
   "display_name": "Python 2",
   "language": "python",
   "name": "python2"
  },
  "language_info": {
   "codemirror_mode": {
    "name": "ipython",
    "version": 2
   },
   "file_extension": ".py",
   "mimetype": "text/x-python",
   "name": "python",
   "nbconvert_exporter": "python",
   "pygments_lexer": "ipython2",
   "version": "2.7.12"
  }
 },
 "nbformat": 4,
 "nbformat_minor": 1
}
