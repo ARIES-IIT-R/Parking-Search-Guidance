{
 "cells": [
  {
   "cell_type": "code",
   "execution_count": 14,
   "metadata": {
    "collapsed": false
   },
   "outputs": [],
   "source": [
    "import cv2 as cv\n",
    "import math\n",
    "import numpy as np\n",
    "from matplotlib import pyplot as plt\n",
    "%matplotlib inline\n",
    "\n",
    "\n",
    "img1 = cv.imread('/home/prakash/Desktop/PP/new_fill.jpg')\n",
    "img2 = cv.cvtColor(img1, cv.COLOR_BGR2GRAY)"
   ]
  },
  {
   "cell_type": "code",
   "execution_count": null,
   "metadata": {
    "collapsed": false
   },
   "outputs": [],
   "source": [
    "cap = cv.VideoCapture(1)\n",
    "while(True):\n",
    "    ret, frame = cap.read()\n",
    "    img3 = cv.cvtColor(frame, cv.COLOR_BGR2GRAY)\n",
    "    #cv.imshow('frame', img3)\n",
    "    img_subtract = img2 - img3\n",
    "    img4 = cv.cvtColor(img_subtract, cv.COLOR_GRAY2RGB)\n",
    "    kernel = np.ones((5,5),np.uint8)\n",
    "    img5 = cv.erode(img4, kernel, iterations =5)\n",
    "    plt.imshow(img5)\n",
    "    ret, thresh1 = cv.threshold(img5, 127, 255, 0)\n",
    "    titles = ['Original Image', 'BINARY']\n",
    "    images = [img5, thresh1]\n",
    "    img6 = cv.cvtColor(thresh1, cv.COLOR_BGR2GRAY)\n",
    "    _, contours, hierarchy = cv.findContours(img6, cv.RETR_TREE, cv.CHAIN_APPROX_SIMPLE)\n",
    "    #cv.drawContours(img, contours, -1, (0,255,0), 3)\n",
    "    if len(contours)>0:\n",
    "        for i in range(0,len(contours),1):\n",
    "            cnt= contours[i]\n",
    "            M = cv.moments(cnt)\n",
    "            cx = int(M['m10']/M['m00'])\n",
    "            print cx\n",
    "            cy = int(M['m01']/M['m00'])\n",
    "            print cy\n",
    "            dis = math.sqrt((cx - 350)**2 + (cy - 459)**2)\n",
    "            print dis\n",
    "            print('  ')\n",
    "    else:\n",
    "        print \"sorry no lot is empty\"\n",
    "    if cv.waitkey(1) & 0xFF == ord('q'):\n",
    "        break\n",
    "#cv.waitkey(5)\n",
    "cap.release()\n",
    "cv.destroyAllWindows()"
   ]
  },
  {
   "cell_type": "code",
   "execution_count": null,
   "metadata": {
    "collapsed": true
   },
   "outputs": [],
   "source": []
  }
 ],
 "metadata": {
  "kernelspec": {
   "display_name": "Python 2",
   "language": "python",
   "name": "python2"
  },
  "language_info": {
   "codemirror_mode": {
    "name": "ipython",
    "version": 2
   },
   "file_extension": ".py",
   "mimetype": "text/x-python",
   "name": "python",
   "nbconvert_exporter": "python",
   "pygments_lexer": "ipython2",
   "version": "2.7.12"
  }
 },
 "nbformat": 4,
 "nbformat_minor": 1
}
